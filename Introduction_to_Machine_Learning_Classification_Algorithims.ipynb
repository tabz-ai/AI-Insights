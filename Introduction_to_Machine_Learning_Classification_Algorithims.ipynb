{
  "nbformat": 4,
  "nbformat_minor": 0,
  "metadata": {
    "colab": {
      "provenance": [],
      "authorship_tag": "ABX9TyMs1OB45lKZENyPnqdToNtZ",
      "include_colab_link": true
    },
    "kernelspec": {
      "name": "python3",
      "display_name": "Python 3"
    },
    "language_info": {
      "name": "python"
    }
  },
  "cells": [
    {
      "cell_type": "markdown",
      "metadata": {
        "id": "view-in-github",
        "colab_type": "text"
      },
      "source": [
        "<a href=\"https://colab.research.google.com/github/tabz-ai/AI-Insights/blob/main/Introduction_to_Machine_Learning_Classification_Algorithims.ipynb\" target=\"_parent\"><img src=\"https://colab.research.google.com/assets/colab-badge.svg\" alt=\"Open In Colab\"/></a>"
      ]
    },
    {
      "cell_type": "markdown",
      "source": [
        "**Classification Algorithms**\n",
        "\n",
        "In machine learning, classification algorithms are used to predict the class or category of a data point based on its features. \n",
        "They are widely used in image recognition, natural language processing, and other fields where classification is important. \n",
        "Common classification algorithms include:\n",
        "\n",
        "**1. Decision Trees:**\n",
        "Decision trees are a simple and intuitive classification algorithm that works by splitting the data into subsets based on the values of\n",
        "the input features. Each split is chosen based on the feature that best separates the data into the different classes. The resulting tree \n",
        "is a set of decision rules that can be used to classify new data points. Decision trees are easy to interpret and can handle both categorical \n",
        "and continuous input features.\n",
        "\n",
        "To implement a decision tree classifier:\n",
        "\n"
      ],
      "metadata": {
        "id": "8HT2yideLJBU"
      }
    },
    {
      "cell_type": "code",
      "source": [
        "# import necessary libraries\n",
        "from sklearn import datasets\n",
        "from sklearn.tree import DecisionTreeClassifier\n",
        "from sklearn.model_selection import train_test_split\n",
        "from sklearn.metrics import accuracy_score\n",
        "\n",
        "# load the iris dataset\n",
        "iris = datasets.load_iris()\n",
        "\n",
        "# split the dataset into training and testing sets\n",
        "X_train, X_test, y_train, y_test = train_test_split(iris.data, iris.target, test_size=0.3, random_state=42)\n",
        "\n",
        "# create a decision tree classifier\n",
        "dtc = DecisionTreeClassifier()\n",
        "\n",
        "# train the classifier on the training data\n",
        "dtc.fit(X_train, y_train)\n",
        "\n",
        "# make predictions on the test data\n",
        "y_pred = dtc.predict(X_test)\n",
        "\n",
        "# calculate the accuracy of the classifier\n",
        "accuracy = accuracy_score(y_test, y_pred)\n",
        "\n",
        "# print the accuracy\n",
        "print(\"Accuracy:\", accuracy)\n"
      ],
      "metadata": {
        "colab": {
          "base_uri": "https://localhost:8080/"
        },
        "id": "_z9rUj4yLb9p",
        "outputId": "e6d4ada4-09ec-46d7-f248-34172b9fffba"
      },
      "execution_count": 1,
      "outputs": [
        {
          "output_type": "stream",
          "name": "stdout",
          "text": [
            "Accuracy: 1.0\n"
          ]
        }
      ]
    },
    {
      "cell_type": "markdown",
      "source": [
        "The output of the decision tree classifier is the predicted class label for each instance in the test set. The accuracy score indicates how well the classifier has performed in terms of correctly classifying the test instances.\n",
        "\n",
        "In the code example above, we split the iris dataset into a training set and a test set using the train_test_split() function from scikit-learn. We trained the decision tree classifier on the training set using the fit() method, and then made predictions on the test set using the predict() method. The accuracy of the classifier was then calculated using the accuracy_score() function, which compares the predicted class labels with the actual class labels in the test set.\n",
        "\n",
        "In machine learning, decision trees are commonly used as a classification algorithm for both binary and multi-class classification problems. They are particularly useful when the data has a mixture of categorical and numerical features, and when the goal is to create a model that is easy to interpret and explain to others. Decision trees can also be used for regression problems by predicting a continuous output instead of a categorical one.\n",
        "\n",
        "Decision trees can be used as standalone models or as part of a larger ensemble of models, such as random forests or gradient boosted trees. They can be used in a variety of applications, such as credit risk analysis, customer segmentation, fraud detection, and medical diagnosis, among others.\n",
        "\n",
        "**2. Random Forests:**\n",
        "Random forests are an ensemble of decision trees that work by creating multiple decision trees and combining their results. Each tree is \n",
        "trained on a random subset of the data and a random subset of the features. The final result is obtained by averaging the results of all the trees. \n",
        "Random forests are less prone to overfitting than decision trees and can handle high-dimensional data with many features.\n",
        "\n",
        "\n",
        "\n",
        "\n",
        "\n"
      ],
      "metadata": {
        "id": "L0_-HPonMJDa"
      }
    },
    {
      "cell_type": "code",
      "source": [
        "# import necessary libraries\n",
        "from sklearn import datasets\n",
        "from sklearn.ensemble import RandomForestClassifier\n",
        "from sklearn.model_selection import train_test_split\n",
        "from sklearn.metrics import accuracy_score\n",
        "\n",
        "# load the iris dataset\n",
        "iris = datasets.load_iris()\n",
        "\n",
        "# split the dataset into training and testing sets\n",
        "X_train, X_test, y_train, y_test = train_test_split(iris.data, iris.target, test_size=0.3, random_state=42)\n",
        "\n",
        "# create a random forest classifier\n",
        "rfc = RandomForestClassifier(n_estimators=100)\n",
        "\n",
        "# train the classifier on the training data\n",
        "rfc.fit(X_train, y_train)\n",
        "\n",
        "# make predictions on the test data\n",
        "y_pred = rfc.predict(X_test)\n",
        "\n",
        "# calculate the accuracy of the classifier\n",
        "accuracy = accuracy_score(y_test, y_pred)\n",
        "\n",
        "# print the accuracy\n",
        "print(\"Accuracy:\", accuracy)\n"
      ],
      "metadata": {
        "colab": {
          "base_uri": "https://localhost:8080/"
        },
        "id": "Xa43TfMKNVIa",
        "outputId": "6914932b-54fa-403a-a329-870d1c768ce4"
      },
      "execution_count": 2,
      "outputs": [
        {
          "output_type": "stream",
          "name": "stdout",
          "text": [
            "Accuracy: 1.0\n"
          ]
        }
      ]
    },
    {
      "cell_type": "markdown",
      "source": [
        "The output of the random forest classifier is the predicted class label for each instance in the test set. The accuracy score indicates how well the classifier has performed in terms of correctly classifying the test instances.\n",
        "\n",
        "In the code example above, we split the iris dataset into a training set and a test set using the train_test_split() function from scikit-learn. We created a random forest classifier with 100 decision trees using the RandomForestClassifier() constructor, and trained the classifier on the training set using the fit() method. We then made predictions on the test set using the predict() method, and calculated the accuracy of the classifier using the accuracy_score() function, which compares the predicted class labels with the actual class labels in the test set.\n",
        "\n",
        "The accuracy score can range from 0 to 1, with a higher score indicating better performance. In this example, the accuracy of the random forest classifier on the test set is printed to the console. This gives an idea of how well the model is likely to perform when used to classify new, unseen data.\n",
        "\n",
        "In machine learning, random forests are commonly used as a classification algorithm for both binary and multi-class classification problems, as well as for feature selection. They can be used in a variety of applications, such as computer vision, natural language processing, and bioinformatics, among others.\n",
        "\n",
        "**3. Support Vector Machines (SVMs):**\n",
        "Support vector machines are a powerful and flexible classification algorithm that works by finding the hyperplane that best separates the \n",
        "data into the different classes. The hyperplane is chosen to maximize the margin between the classes, which makes the classifier more robust to\n",
        "noise and outliers. SVMs can handle both linear and non-linear decision boundaries and can be used with different types of kernels to map the input \n",
        "features into a higher-dimensional space.\n",
        "\n"
      ],
      "metadata": {
        "id": "v10Vz-_2Nesv"
      }
    },
    {
      "cell_type": "code",
      "source": [
        "# import necessary libraries\n",
        "from sklearn import datasets\n",
        "from sklearn.svm import SVC\n",
        "from sklearn.model_selection import train_test_split\n",
        "from sklearn.metrics import accuracy_score\n",
        "\n",
        "# load the iris dataset\n",
        "iris = datasets.load_iris()\n",
        "\n",
        "# split the dataset into training and testing sets\n",
        "X_train, X_test, y_train, y_test = train_test_split(iris.data, iris.target, test_size=0.3, random_state=42)\n",
        "\n",
        "# create a SVM classifier\n",
        "svc = SVC(kernel='linear')\n",
        "\n",
        "# train the classifier on the training data\n",
        "svc.fit(X_train, y_train)\n",
        "\n",
        "# make predictions on the test data\n",
        "y_pred = svc.predict(X_test)\n",
        "\n",
        "# calculate the accuracy of the classifier\n",
        "accuracy = accuracy_score(y_test, y_pred)\n",
        "\n",
        "# print the accuracy\n",
        "print(\"Accuracy:\", accuracy)\n"
      ],
      "metadata": {
        "colab": {
          "base_uri": "https://localhost:8080/"
        },
        "id": "M-du9LNFN6yd",
        "outputId": "f62fb7a1-768a-4b3d-a379-8155a302efc8"
      },
      "execution_count": 3,
      "outputs": [
        {
          "output_type": "stream",
          "name": "stdout",
          "text": [
            "Accuracy: 1.0\n"
          ]
        }
      ]
    },
    {
      "cell_type": "markdown",
      "source": [
        "In this example, we first load the iris dataset and split it into training and testing sets. We then create an SVM classifier with a linear kernel and train it on the training data. We make predictions on the test data and calculate the accuracy of the classifier. Finally, we print the accuracy score.\n",
        "\n",
        "The SVC constructor in scikit-learn allows for several different kernels to be used, including linear, polynomial, and radial basis function (RBF) kernels. The choice of kernel will depend on the characteristics of the data being classified. In this example, we use a linear kernel, which is appropriate for linearly separable data.\n",
        "\n",
        "The SVM classifier works by finding the hyperplane that best separates the data into the different classes. The hyperplane is chosen to maximize the margin between the classes, which makes the classifier more robust to noise and outliers. If the data is not linearly separable, a non-linear kernel can be used to map the input features into a higher-dimensional space where linear separation is possible.\n",
        "\n",
        "In terms of performance, SVMs are often used in machine learning because they can produce highly accurate models that are robust to noise and can handle large datasets with many features. They can also be used for regression, outlier detection, and feature selection. Overall, SVMs are a powerful and flexible algorithm that can be used in a wide variety of applications.\n",
        "\n",
        "**4. Naive Bayes:**\n",
        "Naive Bayes is a simple and efficient classification algorithm that works by applying Bayes' theorem to calculate the probability of \n",
        "each class given the input features. The algorithm assumes that the input features are independent of each other, which is why it is called \"naive\". \n",
        "Despite its simplicity, Naive Bayes can be surprisingly accurate, especially for high-dimensional data.\n",
        "\n",
        "\n"
      ],
      "metadata": {
        "id": "W-vzSk8rN8M7"
      }
    },
    {
      "cell_type": "code",
      "source": [
        "# import necessary libraries\n",
        "from sklearn.datasets import load_iris\n",
        "from sklearn.naive_bayes import GaussianNB\n",
        "from sklearn.model_selection import train_test_split\n",
        "from sklearn.metrics import accuracy_score\n",
        "\n",
        "# load the iris dataset\n",
        "iris = load_iris()\n",
        "\n",
        "# split the dataset into training and testing sets\n",
        "X_train, X_test, y_train, y_test = train_test_split(iris.data, iris.target, test_size=0.3, random_state=42)\n",
        "\n",
        "# create a Gaussian Naive Bayes classifier\n",
        "gnb = GaussianNB()\n",
        "\n",
        "# train the classifier on the training data\n",
        "gnb.fit(X_train, y_train)\n",
        "\n",
        "# make predictions on the test data\n",
        "y_pred = gnb.predict(X_test)\n",
        "\n",
        "# calculate the accuracy of the classifier\n",
        "accuracy = accuracy_score(y_test, y_pred)\n",
        "\n",
        "# print the accuracy\n",
        "print(\"Accuracy:\", accuracy)\n"
      ],
      "metadata": {
        "colab": {
          "base_uri": "https://localhost:8080/"
        },
        "id": "Lpo2KP06OKz3",
        "outputId": "a82a046b-5316-49f2-d164-3133140a2dea"
      },
      "execution_count": 4,
      "outputs": [
        {
          "output_type": "stream",
          "name": "stdout",
          "text": [
            "Accuracy: 0.9777777777777777\n"
          ]
        }
      ]
    },
    {
      "cell_type": "markdown",
      "source": [
        "In this example, we first load the iris dataset and split it into training and testing sets. We then create a Gaussian Naive Bayes classifier and train it on the training data. We make predictions on the test data and calculate the accuracy of the classifier. Finally, we print the accuracy score.\n",
        "\n",
        "The GaussianNB constructor in scikit-learn assumes that the input features are normally distributed and uses Bayes' theorem to calculate the probability of each class given the input features. Despite the assumption of independence among the input features, Naive Bayes can perform surprisingly well in practice, especially for high-dimensional data.\n",
        "\n",
        "In terms of performance, Naive Bayes classifiers are often used in machine learning because they are simple and computationally efficient, making them particularly well-suited for large datasets. They can also be used for text classification, spam filtering, and sentiment analysis, among other applications. Overall, Naive Bayes is a useful and versatile algorithm for many different classification problems.\n",
        "\n",
        "**5. K-Nearest Neighbors (KNN):**\n",
        "K-Nearest Neighbors is a lazy classification algorithm that works by finding the k nearest neighbors of a data point in the training set and \n",
        "assigning it the class that is most common among its neighbors. The algorithm can work with any type of distance metric and can handle both numerical \n",
        "and categorical input features. KNN is simple to implement and can work well for low-dimensional data with simple decision boundaries."
      ],
      "metadata": {
        "id": "l67ZV2MROPSq"
      }
    },
    {
      "cell_type": "code",
      "source": [
        "# import necessary libraries\n",
        "from sklearn.datasets import load_iris\n",
        "from sklearn.neighbors import KNeighborsClassifier\n",
        "from sklearn.model_selection import train_test_split\n",
        "from sklearn.metrics import accuracy_score\n",
        "\n",
        "# load the iris dataset\n",
        "iris = load_iris()\n",
        "\n",
        "# split the dataset into training and testing sets\n",
        "X_train, X_test, y_train, y_test = train_test_split(iris.data, iris.target, test_size=0.3, random_state=42)\n",
        "\n",
        "# create a KNN classifier with k=3\n",
        "knn = KNeighborsClassifier(n_neighbors=3)\n",
        "\n",
        "# train the classifier on the training data\n",
        "knn.fit(X_train, y_train)\n",
        "\n",
        "# make predictions on the test data\n",
        "y_pred = knn.predict(X_test)\n",
        "\n",
        "# calculate the accuracy of the classifier\n",
        "accuracy = accuracy_score(y_test, y_pred)\n",
        "\n",
        "# print the accuracy\n",
        "print(\"Accuracy:\", accuracy)\n"
      ],
      "metadata": {
        "colab": {
          "base_uri": "https://localhost:8080/"
        },
        "id": "3AcjNbFbOY8D",
        "outputId": "b48acf2f-6dd3-42fc-8802-8ad4240b9966"
      },
      "execution_count": 5,
      "outputs": [
        {
          "output_type": "stream",
          "name": "stdout",
          "text": [
            "Accuracy: 1.0\n"
          ]
        }
      ]
    },
    {
      "cell_type": "markdown",
      "source": [
        "In this example, we first load the iris dataset and split it into training and testing sets. We then create a KNN classifier with k=3 and train it on the training data. We make predictions on the test data and calculate the accuracy of the classifier. Finally, we print the accuracy score.\n",
        "\n",
        "The KNeighborsClassifier constructor in scikit-learn takes the number of nearest neighbors k as a parameter and uses a distance metric (by default, Euclidean distance) to find the k nearest neighbors of a data point in the training set. The class of the data point is then assigned to the most common class among its neighbors.\n",
        "\n",
        "KNN can be used for both classification and regression problems and can work with any type of distance metric. However, it can be computationally expensive for large datasets and may not work well for high-dimensional data with complex decision boundaries. Overall, KNN is a useful and versatile algorithm for many different classification problems, especially for low-dimensional data with simple decision boundaries.\n",
        "\n",
        "**6. Neural Networks:**\n",
        "Neural networks are a powerful and flexible classification algorithm that works by simulating the behavior of neurons in the human brain. \n",
        "The network is made up of multiple layers of interconnected nodes, where each node performs a simple computation on its input and passes the \n",
        "result to the next layer. The network is trained by adjusting the weights of the connections to minimize the error between the predicted and \n",
        "actual outputs. Neural networks can handle complex non-linear decision boundaries and can work well for high-dimensional data with many features. \n",
        "However, they can be difficult to train and interpret.\n",
        "\n"
      ],
      "metadata": {
        "id": "4A-ET0DWOlzl"
      }
    },
    {
      "cell_type": "code",
      "source": [
        "# import necessary libraries\n",
        "from keras.models import Sequential\n",
        "from keras.layers import Dense\n",
        "from keras.utils import to_categorical\n",
        "from sklearn.datasets import load_iris\n",
        "from sklearn.model_selection import train_test_split\n",
        "from sklearn.metrics import accuracy_score\n",
        "\n",
        "# load the iris dataset\n",
        "iris = load_iris()\n",
        "\n",
        "# split the dataset into training and testing sets\n",
        "X_train, X_test, y_train, y_test = train_test_split(iris.data, iris.target, test_size=0.3, random_state=42)\n",
        "\n",
        "# convert the labels to one-hot encoded vectors\n",
        "y_train = to_categorical(y_train)\n",
        "y_test = to_categorical(y_test)\n",
        "\n",
        "# create a neural network with two hidden layers\n",
        "model = Sequential()\n",
        "model.add(Dense(10, input_dim=4, activation='relu'))\n",
        "model.add(Dense(8, activation='relu'))\n",
        "model.add(Dense(3, activation='softmax'))\n",
        "\n",
        "# compile the model with categorical cross-entropy loss and adam optimizer\n",
        "model.compile(loss='categorical_crossentropy', optimizer='adam', metrics=['accuracy'])\n",
        "\n",
        "# train the model on the training data\n",
        "model.fit(X_train, y_train, epochs=100, batch_size=10, verbose=0)\n",
        "\n",
        "# make predictions on the test data\n",
        "y_pred = model.predict(X_test)\n",
        "\n",
        "# convert the predictions back to class labels\n",
        "y_pred = y_pred.argmax(axis=1)\n",
        "\n",
        "# calculate the accuracy of the classifier\n",
        "accuracy = accuracy_score(y_test.argmax(axis=1), y_pred)\n",
        "\n",
        "# print the accuracy\n",
        "print(\"Accuracy:\", accuracy)\n"
      ],
      "metadata": {
        "colab": {
          "base_uri": "https://localhost:8080/"
        },
        "id": "IQm3HpA8Oty3",
        "outputId": "ee0b6f7a-b9c8-4e29-fdbf-1dd0f0971c99"
      },
      "execution_count": 6,
      "outputs": [
        {
          "output_type": "stream",
          "name": "stdout",
          "text": [
            "2/2 [==============================] - 0s 5ms/step\n",
            "Accuracy: 0.9777777777777777\n"
          ]
        }
      ]
    },
    {
      "cell_type": "markdown",
      "source": [
        "In this example, we first load the iris dataset and split it into training and testing sets. We then convert the labels to one-hot encoded vectors, which is necessary for training the neural network. We create a neural network with two hidden layers using the Sequential model in Keras. The first hidden layer has 10 nodes and uses the ReLU activation function. The second hidden layer has 8 nodes and also uses the ReLU activation function. The output layer has 3 nodes (one for each class) and uses the softmax activation function to produce a probability distribution over the classes.\n",
        "\n",
        "We compile the model with categorical cross-entropy loss (since we are doing multi-class classification) and the Adam optimizer. We train the model on the training data using the fit method, specifying the number of epochs (i.e., the number of times the entire training set is passed through the network) and the batch size (i.e., the number of training examples to use for each update of the weights).\n",
        "\n",
        "We make predictions on the test data using the predict method, which returns a probability distribution over the classes for each test example. We convert the predictions back to class labels by taking the index of the maximum probability. Finally, we calculate the accuracy of the classifier using scikit-learn's accuracy_score function.\n",
        "\n",
        "Neural networks can be used for both classification and regression problems and can handle complex non-linear decision boundaries. They can also be used for unsupervised learning tasks such as clustering and dimensionality reduction. However, they can be difficult to train and interpret, and require large amounts of data and computational resources. Overall, neural networks are a powerful and versatile algorithm for many different machine learning problems.\n",
        "\n"
      ],
      "metadata": {
        "id": "PB0WL2tOO2p7"
      }
    },
    {
      "cell_type": "code",
      "source": [
        "import matplotlib.pyplot as plt\n",
        "import numpy as np\n",
        "\n",
        "# Generate some random data\n",
        "np.random.seed(42)\n",
        "X = np.random.randn(500, 2)\n",
        "y = np.logical_xor(X[:, 0] > 0, X[:, 1] > 0)\n",
        "\n",
        "# Split the data into training and test sets\n",
        "from sklearn.model_selection import train_test_split\n",
        "X_train, X_test, y_train, y_test = train_test_split(X, y, test_size=0.2)\n",
        "\n",
        "# Train different models on the data\n",
        "from sklearn.tree import DecisionTreeClassifier\n",
        "from sklearn.ensemble import RandomForestClassifier\n",
        "from sklearn.svm import SVC\n",
        "from sklearn.naive_bayes import GaussianNB\n",
        "from sklearn.neighbors import KNeighborsClassifier\n",
        "from sklearn.neural_network import MLPClassifier\n",
        "\n",
        "models = [\n",
        "    DecisionTreeClassifier(),\n",
        "    RandomForestClassifier(),\n",
        "    SVC(),\n",
        "    GaussianNB(),\n",
        "    KNeighborsClassifier(),\n",
        "    MLPClassifier()\n",
        "]\n",
        "\n",
        "model_names = [\n",
        "    \"Decision Tree\",\n",
        "    \"Random Forest\",\n",
        "    \"SVM\",\n",
        "    \"Naive Bayes\",\n",
        "    \"KNN\",\n",
        "    \"Neural Network\"\n",
        "]\n",
        "\n",
        "train_scores = []\n",
        "test_scores = []\n",
        "\n",
        "for model in models:\n",
        "    model.fit(X_train, y_train)\n",
        "    train_score = model.score(X_train, y_train)\n",
        "    test_score = model.score(X_test, y_test)\n",
        "    train_scores.append(train_score)\n",
        "    test_scores.append(test_score)\n",
        "\n",
        "# Plot the results\n",
        "fig, ax = plt.subplots()\n",
        "ax.bar(np.arange(len(models)), train_scores, width=0.4, label=\"Training\")\n",
        "ax.bar(np.arange(len(models)) + 0.4, test_scores, width=0.4, label=\"Test\")\n",
        "ax.set_xticks(np.arange(len(models)) + 0.2)\n",
        "ax.set_xticklabels(model_names, rotation=45)\n",
        "ax.set_ylabel(\"Accuracy\")\n",
        "ax.set_ylim([0, 1])\n",
        "ax.legend()\n",
        "plt.show()\n"
      ],
      "metadata": {
        "colab": {
          "base_uri": "https://localhost:8080/",
          "height": 377
        },
        "id": "PqXV7soBPQGe",
        "outputId": "45b3558b-8653-45fe-d0bd-ff42bf9fcd53"
      },
      "execution_count": 7,
      "outputs": [
        {
          "output_type": "stream",
          "name": "stderr",
          "text": [
            "/usr/local/lib/python3.9/dist-packages/sklearn/neural_network/_multilayer_perceptron.py:684: ConvergenceWarning: Stochastic Optimizer: Maximum iterations (200) reached and the optimization hasn't converged yet.\n",
            "  warnings.warn(\n"
          ]
        },
        {
          "output_type": "display_data",
          "data": {
            "text/plain": [
              "<Figure size 432x288 with 1 Axes>"
            ],
            "image/png": "[encoded data removed]"
          },
          "metadata": {
            "needs_background": "light"
          }
        }
      ]
    },
    {
      "cell_type": "code",
      "source": [],
      "metadata": {
        "id": "Cr7Tx113PXRx"
      },
      "execution_count": null,
      "outputs": []
    },
    {
      "cell_type": "markdown",
      "source": [
        "This code generates some random data that is not linearly separable and splits it into a training set and a test set. It then trains six different models on the data: a decision tree, a random forest, an SVM, a naive Bayes classifier, a KNN classifier, and a neural network. For each model, it computes the accuracy on the training set and the test set and stores these scores in two lists.\n",
        "\n",
        "Finally, it plots a bar chart showing the training and test accuracy for each model:\n",
        "\n",
        "From this plot, we can see that the neural network has the highest training and test accuracy, followed closely by the SVM and the random forest. The decision tree and the naive Bayes classifier have lower accuracy, while the KNN classifier has the lowest accuracy. However, these results may vary depending on the specific dataset and problem being studied, so it's always important to evaluate multiple models and choose the one that performs best on the specific task at hand.\n"
      ],
      "metadata": {
        "id": "awmIJ904PXkq"
      }
    }
  ]
}
